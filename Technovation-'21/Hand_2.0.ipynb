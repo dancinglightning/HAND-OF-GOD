{
 "cells": [
  {
   "cell_type": "markdown",
   "metadata": {},
   "source": [
    "# Hand of God Code 2.0"
   ]
  },
  {
   "cell_type": "markdown",
   "metadata": {},
   "source": [
    "- Hanan Basheer (20B030018) [Code Master]\n",
    "- Sidhant Bose (200020140)\n",
    "- Vinayak Goyal (20d070088)"
   ]
  },
  {
   "cell_type": "markdown",
   "metadata": {},
   "source": [
    "### Installing required dependencies and modules"
   ]
  },
  {
   "cell_type": "code",
   "execution_count": 85,
   "metadata": {},
   "outputs": [],
   "source": [
    "import subprocess\n",
    "\n",
    "def install(name):\n",
    "    subprocess.call(['pip', 'install', name])\n",
    "\n",
    "install(\"matplotlib sklearn tk seaborn pandas serial mouse keyboard pyautogui\")\n",
    "\n",
    "# Restart Notebook after installations are complete"
   ]
  },
  {
   "cell_type": "markdown",
   "metadata": {},
   "source": [
    "### Importing required libraries"
   ]
  },
  {
   "cell_type": "code",
   "execution_count": 86,
   "metadata": {},
   "outputs": [],
   "source": [
    "import matplotlib.pyplot as plt\n",
    "from sklearn.neighbors import KNeighborsClassifier\n",
    "from sklearn.model_selection import train_test_split\n",
    "from sklearn.metrics import classification_report, confusion_matrix\n",
    "from sklearn import metrics\n",
    "import numpy as np\n",
    "import os\n",
    "import seaborn as sns\n",
    "import pandas as pd\n",
    "import csv\n",
    "import serial\n",
    "import time\n",
    "import keyboard\n",
    "import pyautogui\n",
    "import mouse\n",
    "import warnings\n",
    "import turtle\n",
    "from tkinter import *\n",
    "from PIL import Image, ImageTk\n",
    "from Graphics import Animations\n",
    "warnings.filterwarnings('ignore')"
   ]
  },
  {
   "cell_type": "markdown",
   "metadata": {},
   "source": [
    "### Global Variable definition"
   ]
  },
  {
   "cell_type": "code",
   "execution_count": 87,
   "metadata": {},
   "outputs": [],
   "source": [
    "push = 0  # Thumb button to push buffer commands through\n",
    "dt = 0.1"
   ]
  },
  {
   "cell_type": "markdown",
   "metadata": {},
   "source": [
    "### Arduino Object Creation"
   ]
  },
  {
   "cell_type": "code",
   "execution_count": 88,
   "metadata": {},
   "outputs": [],
   "source": [
    "# arduino = serial.Serial('COM3', 9600, timeout = dt)"
   ]
  },
  {
   "cell_type": "markdown",
   "metadata": {},
   "source": [
    "### Training Data extractor from csv file"
   ]
  },
  {
   "cell_type": "code",
   "execution_count": 89,
   "metadata": {},
   "outputs": [
    {
     "name": "stdout",
     "output_type": "stream",
     "text": [
      "List of actions stored: ['Yo', 'Anti-Yo', 'Closed Hand', 'Open Hand', 'Victory', 'Pointer']\n"
     ]
    }
   ],
   "source": [
    "def built(hand):\n",
    "    l = []\n",
    "    l1 = []\n",
    "    for i in range(1, len(hand)):\n",
    "       l = l + [[hand[i][0], hand[i][1], hand[i][2], hand[i][3]]]\n",
    "       l1 = l1 + [[hand[i][4]]]\n",
    "    return (np.array(l, dtype=list), np.array(l1, dtype=list))\n",
    "\n",
    "def unique_action(y):\n",
    "    l = []\n",
    "    for i in y:\n",
    "        if i[0] not in l:\n",
    "            l.append(i[0])\n",
    "    return l\n",
    "\n",
    "def get_key(my_dict, val):\n",
    "    for key, value in my_dict.items():\n",
    "         if val == value:\n",
    "             return key\n",
    "\n",
    "reader = list(csv.reader(open(os.getcwd() + '\\\\Vol-Ges.csv')))\n",
    "x, y = built(reader)\n",
    "actions = unique_action(y)\n",
    "print(\"List of actions stored:\", actions)"
   ]
  },
  {
   "cell_type": "markdown",
   "metadata": {},
   "source": [
    "### Creating KNN model and Operations"
   ]
  },
  {
   "cell_type": "code",
   "execution_count": 90,
   "metadata": {},
   "outputs": [],
   "source": [
    "model = KNeighborsClassifier(n_neighbors = 100)\n",
    "X_train, X_test, y_train, y_test = train_test_split(x, y, test_size=0.1, random_state=0)\n",
    "model.fit(X_train, y_train)\n",
    "y_pred = model.predict(X_test)"
   ]
  },
  {
   "cell_type": "markdown",
   "metadata": {},
   "source": [
    "### Prediction functions and Testing prediction"
   ]
  },
  {
   "cell_type": "code",
   "execution_count": 91,
   "metadata": {},
   "outputs": [],
   "source": [
    "# Single gesture prediction function\n",
    "def predict(x):\n",
    "    y = []\n",
    "    for i in range(len(x)):\n",
    "        y.append(model.predict([x[i]]))\n",
    "    return np.array(y)\n",
    "\n",
    "# Array buider of prediction for creating confusion matrix\n",
    "def predict_array(x, y_test):\n",
    "    y = []\n",
    "    z = list(predict(x))\n",
    "    for i in range(y_test.shape[0]):\n",
    "        y += z\n",
    "    return np.array(y)"
   ]
  },
  {
   "cell_type": "markdown",
   "metadata": {},
   "source": [
    "### Interface (Button functions)"
   ]
  },
  {
   "cell_type": "code",
   "execution_count": 92,
   "metadata": {},
   "outputs": [],
   "source": [
    "def fun1():  # Record Hand Gesture\n",
    "    root = Tk()\n",
    "    root.title(\"Record Hand Gesture\")\n",
    "    root.geometry('500x300')\n",
    "    root.resizable(False, False)\n",
    "    root.iconbitmap(os.getcwd() + \"\\\\Graphics\\\\title_icon.ico\")\n",
    "    data_list = []\n",
    "    def record_gesture_fun():\n",
    "        avg_list = [0, 0, 0, 0]\n",
    "        for i in range(100):\n",
    "            data = \"$$396/210/200/370/500/600/700/800/\"  #arduino.readline()\n",
    "            if (data):\n",
    "                data = list(map(eval,str(data)[2:-5].split(\"/\")))[0:4]\n",
    "                data_list.append(data)\n",
    "                for j in range(len(data)):\n",
    "                    avg_list[j] += data[j]\n",
    "                outputs.insert(END, \"   Outputs at t = \" + str(round(dt * i, 2)) + \"  =>  \" + str(data[0]) + \", \" + str(data[1]) + \", \" + str(data[2]) + \", \" + str(data[3]))\n",
    "        avg = [round(x / len(data_list), 1) for x in avg_list]\n",
    "        output_label = Label(root, text = \"Average Voltage Values\").place(x = 115, y = 30, relx = 0.5, rely = 0.5, anchor = CENTER)\n",
    "        output = Label(root, text = str(avg)).place(x = 115, y = 50, relx = 0.5, rely = 0.5, anchor = CENTER)\n",
    "\n",
    "    parent = Frame(root, padx=10, pady=10)\n",
    "    parent.pack(fill=BOTH, expand=True)\n",
    "    entry = Entry(parent)\n",
    "    entry.place(x = 105, y = -70, relx = 0.5, rely = 0.5, anchor = CENTER)\n",
    "\n",
    "    def store_gesture_fun():\n",
    "        action_name = entry.get()\n",
    "        if (action_name):\n",
    "            with open(os.getcwd() + '\\\\Vol-Ges.csv', 'a', encoding='UTF8', newline='') as f:\n",
    "                writer = csv.writer(f)\n",
    "                for i in data_list:\n",
    "                    z = i + [action_name]\n",
    "                    writer.writerow(z)\n",
    "            store_label = Label(root, text = \"Gesture stored successfully!\", font=(\"Arial\", 10), height = 5, fg = \"#00b894\").place(x = 115, y = 50, relx = 0.5, rely = 0.5, anchor = CENTER)\n",
    "\n",
    "    scroll_bar = Scrollbar(parent)\n",
    "    scroll_bar.pack(side = RIGHT, fill = Y)\n",
    "    outputs = Listbox(parent, yscrollcommand = scroll_bar.set, width = 15)    \n",
    "    outputs.pack(side = LEFT, fill = Y)\n",
    "    scroll_bar.config(command = outputs.yview)\n",
    "    record_button = Button(parent, text='RECORD', command = record_gesture_fun, bg = \"#ff7675\").place(x = 60, y = -10, relx = 0.5, rely = 0.5, anchor = CENTER)\n",
    "    store_button = Button(parent, text='STORE', command = store_gesture_fun, bg = \"#6c5ce7\").place(x = 150, y = -10, relx = 0.5, rely = 0.5, anchor = CENTER)\n",
    "    root.mainloop()"
   ]
  },
  {
   "cell_type": "code",
   "execution_count": 93,
   "metadata": {},
   "outputs": [],
   "source": [
    "def fun2():  # Record Command (Sequencing)\n",
    "    root = Tk()\n",
    "    root.title(\"Record Command (Sequencing)\")\n",
    "    root.geometry('550x150')\n",
    "    root.resizable(False, False)\n",
    "    root.iconbitmap(os.getcwd() + \"\\\\Graphics\\\\title_icon.ico\")\n",
    "    action = []\n",
    "    def record_command_fun():\n",
    "        action_number = 1\n",
    "        for i in range(100):\n",
    "            data = \"$$396/210/200/370/500/600/700/800/\"  #arduino.readline()\n",
    "            if (data):\n",
    "                data = list(map(eval,str(data)[2:-5].split(\"/\")))[0:4]\n",
    "                prediction = str(model.predict([data])[0])\n",
    "                if len(action)>0:\n",
    "                    if action[-1]!=prediction:\n",
    "                        action.append(prediction)\n",
    "                        outputs.insert(END, \"  Gesture \" + str(action_number) + \" Name : \" + prediction)\n",
    "                        action_number += 1\n",
    "                else:\n",
    "                    action.append(prediction)\n",
    "                    outputs.insert(END, \"  Gesture \" + str(action_number) + \" Name : \" + prediction)\n",
    "                    action_number += 1\n",
    "\n",
    "    parent = Frame(root, padx=10, pady=10)\n",
    "    parent.pack(fill=BOTH, expand=True)\n",
    "    entry = Entry(parent)\n",
    "    entry.place(x = 95, y = -40, relx = 0.5, rely = 0.5, anchor = CENTER)\n",
    "\n",
    "    def store_command_fun():\n",
    "        action_name = entry.get()\n",
    "        dict = {}\n",
    "        if (action_name):\n",
    "            with open(os.getcwd() + '\\\\Commands.txt', 'r', encoding='UTF8', newline='') as f:\n",
    "                f.seek(0)\n",
    "                dict = eval(f.readline())\n",
    "                dict[action_name] = action\n",
    "            with open(os.getcwd() + '\\\\Commands.txt', 'w', encoding='UTF8', newline='') as f:\n",
    "                f.write(str(dict))\n",
    "            store_label = Label(parent, text = \"Gesture stored successfully!\", font=(\"Arial\", 10), height = 5, fg = \"#00b894\").place(x = 85, y = -20, relx = 0.5, rely = 0.5, anchor = CENTER)\n",
    "\n",
    "    scroll_bar = Scrollbar(parent)\n",
    "    scroll_bar.pack(side = RIGHT, fill = Y)\n",
    "    outputs = Listbox(parent, yscrollcommand = scroll_bar.set, width = 20)    \n",
    "    outputs.pack(side = LEFT, fill = Y)\n",
    "    scroll_bar.config(command = outputs.yview)\n",
    "    record_button = Button(parent, text='RECORD', command = record_command_fun, bg = \"#ff7675\").place(x = 60, y = 10, relx = 0.5, rely = 0.5, anchor = CENTER)\n",
    "    store_button = Button(parent, text='STORE', command = store_command_fun, bg = \"#6c5ce7\").place(x = 140, y = 10, relx = 0.5, rely = 0.5, anchor = CENTER)\n",
    "    root.mainloop()"
   ]
  },
  {
   "cell_type": "code",
   "execution_count": 94,
   "metadata": {},
   "outputs": [],
   "source": [
    "def fun3():  # Detect Command\n",
    "    root = Tk()\n",
    "    root.title(\"Detect Command\")\n",
    "    root.geometry('750x150')\n",
    "    root.resizable(False, False)\n",
    "    root.iconbitmap(os.getcwd() + \"\\\\Graphics\\\\title_icon.ico\")\n",
    "    action = []\n",
    "    \n",
    "    def detect_command_fun():\n",
    "        action_number = 1\n",
    "        for i in range(100):\n",
    "            data = \"$$396/210/200/370/500/600/700/800/\"  #arduino.readline()\n",
    "            if (data):\n",
    "                data = list(map(eval,str(data)[2:-5].split(\"/\")))[0:4]\n",
    "                prediction = str(model.predict([data])[0])\n",
    "                if len(action)>0:\n",
    "                    if action[-1]!=prediction:\n",
    "                        action.append(prediction)\n",
    "                        outputs.insert(END, \"  Gesture \" + str(action_number) + \" Name : \" + prediction)\n",
    "                        action_number += 1\n",
    "                else:\n",
    "                    action.append(prediction)\n",
    "                    outputs.insert(END, \"  Gesture \" + str(action_number) + \" Name : \" + prediction)\n",
    "                    action_number += 1\n",
    "\n",
    "        with open(os.getcwd() + '\\\\Commands.txt', 'r', encoding='UTF8', newline='') as f:\n",
    "            f.seek(0)\n",
    "            dict = eval(f.readline())\n",
    "            outputs2.insert(END, get_key(dict, action))\n",
    "\n",
    "    parent = Frame(root, padx=10, pady=10)\n",
    "    parent.pack(fill=BOTH, expand=True)\n",
    "\n",
    "    scroll_bar = Scrollbar(parent)\n",
    "    scroll_bar.pack(side = RIGHT, fill = Y)\n",
    "    outputs = Listbox(parent, yscrollcommand = scroll_bar.set, width = 30, justify = LEFT)    \n",
    "    outputs.pack(side = LEFT, fill = Y)\n",
    "    outputs2 = Listbox(parent, height = 1, width = 20, justify = CENTER)\n",
    "    outputs2.place(x = 120, y = 20, relx = 0.5, rely = 0.5, anchor = CENTER)\n",
    "    command_label = Label(parent, text = \"Command :\", font=(\"Arial\", 8), height = 5).place(x = 25, y = 20, relx = 0.5, rely = 0.5, anchor = CENTER)\n",
    "    scroll_bar.config(command = outputs.yview)\n",
    "    detect_button = Button(parent, text = 'DETECT', command = detect_command_fun, bg = \"#6c5ce7\").place(x = 145, y = -30, relx = 0.5, rely = 0.5, anchor = CENTER)\n",
    "    root.mainloop()"
   ]
  },
  {
   "cell_type": "code",
   "execution_count": 95,
   "metadata": {},
   "outputs": [],
   "source": [
    "def lock():\n",
    "    failure_max = 3\n",
    "    passwords = [('zextrex', 'v1itsp21')]\n",
    "\n",
    "    def make_entry(parent, caption, width=None, **options):\n",
    "        Label(parent, text=caption).pack(side=TOP)\n",
    "        entry = Entry(parent, **options)\n",
    "        if width:\n",
    "            entry.config(width=width)\n",
    "        entry.pack(side=TOP, padx=10, fill=BOTH)\n",
    "        return entry\n",
    "\n",
    "    def enter(event):\n",
    "        check_password()\n",
    "\n",
    "    def check_password(failures=[]):\n",
    "        if (user.get(), password.get()) in passwords:\n",
    "            root.destroy()\n",
    "            print('Logged in')\n",
    "            fun4()\n",
    "            return\n",
    "        failures.append(1)\n",
    "        if sum(failures) >= failure_max:\n",
    "            root.destroy()\n",
    "            raise SystemExit('Unauthorized login attempt')\n",
    "        else:\n",
    "            root.title('Try again. Attempt %i/%i' % (sum(failures)+1, failure_max))\n",
    "        \n",
    "\n",
    "    root = Tk()\n",
    "    root.title('Enter your information')\n",
    "    root.geometry('300x230')\n",
    "    root.resizable(False, False)\n",
    "    root.iconbitmap(os.getcwd() + \"\\\\Graphics\\\\title_icon.ico\")\n",
    "    parent = Frame(root, padx=10, pady=10)\n",
    "    parent.pack(fill=BOTH, expand=True)\n",
    "    user = make_entry(parent, \"Developer Username\", 16, show='')\n",
    "    password = make_entry(parent, \"Password\", 16, show=\"*\")\n",
    "    b = Button(parent, borderwidth=4, text=\"Login\", width=10, pady=8, command=check_password)\n",
    "    b.pack(side=BOTTOM)\n",
    "    password.bind('<Return>', enter)\n",
    "\n",
    "    user.focus_set()\n",
    "\n",
    "    parent.mainloop()"
   ]
  },
  {
   "cell_type": "code",
   "execution_count": 96,
   "metadata": {},
   "outputs": [],
   "source": [
    "def fun4():  # Developer Options\n",
    "    root = Tk()\n",
    "    root.title(\"Record Hand Gesture\")\n",
    "    root.geometry('600x300')\n",
    "    root.resizable(False, False)\n",
    "    root.iconbitmap(os.getcwd() + \"\\\\Graphics\\\\title_icon.ico\")\n",
    "    def record_gesture_fun():\n",
    "        for i in range(100):\n",
    "            data = \"$$396/210/200/370/500/600/700/800/\"  #arduino.readline()\n",
    "            outputs.insert(END, \"   \" + str(data))\n",
    "\n",
    "    parent = Frame(root, padx=10, pady=10)\n",
    "    parent.pack(fill=BOTH, expand=True)\n",
    "    entry = Entry(parent)\n",
    "    entry.place(x = 115, y = -50, relx = 0.5, rely = 0.5, anchor = CENTER)\n",
    "\n",
    "    scroll_bar = Scrollbar(parent)\n",
    "    scroll_bar.pack(side = RIGHT, fill = Y)\n",
    "    outputs = Listbox(parent, yscrollcommand = scroll_bar.set, width = 25)    \n",
    "    outputs.pack(side = LEFT, fill = Y)\n",
    "    scroll_bar.config(command = outputs.yview)\n",
    "    record_button = Button(parent, text='RECORD', command = record_gesture_fun, bg = \"#ff7675\").place(x = 120, y = 0, relx = 0.5, rely = 0.5, anchor = CENTER)\n",
    "    root.mainloop()"
   ]
  },
  {
   "cell_type": "code",
   "execution_count": 97,
   "metadata": {},
   "outputs": [],
   "source": [
    "def fun5():  # Air Mouse or turtle\n",
    "    def turtle_fun():\n",
    "        V1 = 420\n",
    "        V2 = 250\n",
    "        V3 = 250\n",
    "        V4 = 360\n",
    "        root1 = Tk()\n",
    "        root1.title(\"Turtle Canvas\")\n",
    "        root1.geometry('500x500')\n",
    "        root1.resizable(False, False)\n",
    "        root1.iconbitmap(os.getcwd() + \"\\\\Graphics\\\\title_icon.ico\")\n",
    "        canvas = Canvas(root1, width = 500, height = 500)      #some problem in turtle debug remain\n",
    "        canvas.pack()\n",
    "        t = turtle.RawTurtle(canvas)\n",
    "        t.color('green')\n",
    "\n",
    "        while True:\n",
    "            data1 = \"$$500/500/500/500/500/600/700/800/\" #arduino.readline()\n",
    "            if (data1):\n",
    "                data2 = list(map(eval,str(data1)[2:-5].split(\"/\")))[0:4]\n",
    "                finger1 = data2[0]\n",
    "                finger2 = data2[1]\n",
    "                finger3 = data2[2]\n",
    "                finger4 = data2[3]\n",
    "\n",
    "                if (finger3>V3 and finger4>V4):\n",
    "                    t.right(5)\n",
    "                    time.sleep(0.1)\n",
    "                if (finger1>V1):    \n",
    "                    t.forward(10)\n",
    "                    time.sleep(0.1)\n",
    "                if (finger2>V2):\n",
    "                    t.pendown()\n",
    "                if (finger2<=V2):\n",
    "                    t.penup()\n",
    "\n",
    "            root1.update()\n",
    "\n",
    "        root1.mainloop()\n",
    "\n",
    "\n",
    "    def air_mouse():\n",
    "        V1 = 420\n",
    "        V2 = 250\n",
    "        V3 = 250\n",
    "        V4 = 360\n",
    "\n",
    "        C1 = 'w'\n",
    "        C2 = 'a'\n",
    "        C3 = 's'\n",
    "        C4 = 'd'\n",
    "        C5 = 'space'\n",
    "        \n",
    "        data1 = '$$400/260/200/200/500/600/700/800/' #arduino.readline()\n",
    "        if (data1):\n",
    "            data2 = list(map(eval,str(data1)[2:-5].split(\"/\")))[0:4]\n",
    "            finger1 = data2[0]\n",
    "            finger2 = data2[1]\n",
    "            finger3 = data2[2]\n",
    "            finger4 = data2[3]\n",
    "\n",
    "            while True:\n",
    "                if (finger1>V1 and finger2<V2 and finger3<V3 and finger4<V4):\n",
    "                    # mouse.move(0, 10, absolute = False, duration = 0.1)\n",
    "                    pyautogui.press(C1)\n",
    "                elif (finger1<V1 and finger2>V2 and finger3<V3 and finger4<V4):\n",
    "                    # mouse.move(0, -10, absolute = False, duration = 0.1)\n",
    "                    pyautogui.press(C2)\n",
    "                elif (finger1<V1 and finger2<V2 and finger3>V3 and finger4<V4):\n",
    "                    # mouse.move(-10, 0, absolute = False, duration = 0.1)\n",
    "                    pyautogui.press(C3)\n",
    "                elif (finger1<V1 and finger2<V2 and finger3<V3 and finger4>V4):\n",
    "                    # mouse.move(10, 0, absolute = False, duration = 0.1)\n",
    "                    pyautogui.press(C4)\n",
    "                elif (finger1>V1 and finger2>V2 and finger3>V3 and finger4>V4):\n",
    "                    pyautogui.press(C5)\n",
    "                # elif (finger1>V1 and finger2<V2 and finger3>V3 and finger4<V4):\n",
    "                #     # mouse.move(-10, 10, absolute = False, duration = 0.1)\n",
    "                # elif (finger1>V1 and finger2<V2 and finger3<V3 and finger4>V4):\n",
    "                #     # mouse.move(10, 10, absolute = False, duration = 0.1)\n",
    "                # elif (finger1<V1 and finger2>V2 and finger3>V3 and finger4<V4):\n",
    "                #     # mouse.move(-10, -10, absolute = False, duration = 0.1)\n",
    "                # elif (finger1<V1 and finger2>V2 and finger3<V3 and finger4>V4):\n",
    "                #     # mouse.move(10, -10, absolute = False, duration = 0.1)\n",
    "                # elif (finger1>V1 and finger2>V2 and finger3<V3 and finger4<V4):\n",
    "                #     # mouse.click(\"left\")\n",
    "                # elif (finger1<V1 and finger2<V2 and finger3>V3 and finger4>V4):\n",
    "                #     # mouse.click(\"right\")\n",
    "\n",
    "    root = Tk()\n",
    "    root.title('Select option')\n",
    "    root.geometry('300x100')\n",
    "    root.resizable(False, False)\n",
    "    root.iconbitmap(os.getcwd() + \"\\\\Graphics\\\\title_icon.ico\")\n",
    "    parent = Frame(root, padx=10, pady=10)\n",
    "    parent.pack(fill=BOTH, expand=True)\n",
    "    b1 = Button(parent,borderwidth = 4, text='Turtle',width = 10, pady = 8, padx = 8, command = turtle_fun)\n",
    "    b2 = Button(parent,borderwidth = 4, text='Air Mouse',width = 10, pady = 8, padx = 8, command = air_mouse)\n",
    "    b2.pack(side = RIGHT)\n",
    "    b1.pack(side = LEFT)\n",
    "    parent.mainloop()\n",
    "    \n"
   ]
  },
  {
   "cell_type": "markdown",
   "metadata": {},
   "source": [
    "### Interface (Pop-up)"
   ]
  },
  {
   "cell_type": "code",
   "execution_count": 98,
   "metadata": {},
   "outputs": [
    {
     "ename": "TclError",
     "evalue": "expected integer but got \"10.5\"",
     "output_type": "error",
     "traceback": [
      "\u001b[1;31m---------------------------------------------------------------------------\u001b[0m",
      "\u001b[1;31mTclError\u001b[0m                                  Traceback (most recent call last)",
      "\u001b[1;32mc:\\Users\\Sidhant\\Documents\\GitHub\\HAND-OF-GOD\\Technovation-'21\\Hand_2.0.ipynb Cell 25'\u001b[0m in \u001b[0;36m<cell line: 28>\u001b[1;34m()\u001b[0m\n\u001b[0;32m     <a href='vscode-notebook-cell:/c%3A/Users/Sidhant/Documents/GitHub/HAND-OF-GOD/Technovation-%2721/Hand_2.0.ipynb#ch0000024?line=25'>26</a>\u001b[0m but4 \u001b[39m=\u001b[39m Button(button_frame, text \u001b[39m=\u001b[39m \u001b[39m\"\u001b[39m\u001b[39mDeveloper Options\u001b[39m\u001b[39m\"\u001b[39m, font\u001b[39m=\u001b[39m(\u001b[39m\"\u001b[39m\u001b[39mLucida Sans\u001b[39m\u001b[39m\"\u001b[39m, \u001b[39m9\u001b[39m), bg \u001b[39m=\u001b[39m \u001b[39m'\u001b[39m\u001b[39m#b2bec3\u001b[39m\u001b[39m'\u001b[39m, command \u001b[39m=\u001b[39m lock, width \u001b[39m=\u001b[39m \u001b[39m20\u001b[39m, height \u001b[39m=\u001b[39m \u001b[39m2\u001b[39m)\u001b[39m.\u001b[39mplace(x \u001b[39m=\u001b[39m \u001b[39m125\u001b[39m, y \u001b[39m=\u001b[39m \u001b[39m50\u001b[39m, relx \u001b[39m=\u001b[39m \u001b[39m0.5\u001b[39m, rely \u001b[39m=\u001b[39m \u001b[39m0.5\u001b[39m, anchor \u001b[39m=\u001b[39m CENTER)\n\u001b[0;32m     <a href='vscode-notebook-cell:/c%3A/Users/Sidhant/Documents/GitHub/HAND-OF-GOD/Technovation-%2721/Hand_2.0.ipynb#ch0000024?line=26'>27</a>\u001b[0m but5 \u001b[39m=\u001b[39m Button(button_frame, text \u001b[39m=\u001b[39m \u001b[39m\"\u001b[39m\u001b[39mControl\u001b[39m\u001b[39m\"\u001b[39m, font\u001b[39m=\u001b[39m(\u001b[39m\"\u001b[39m\u001b[39mLucida Sans\u001b[39m\u001b[39m\"\u001b[39m, \u001b[39m9\u001b[39m), bg \u001b[39m=\u001b[39m \u001b[39m'\u001b[39m\u001b[39m#81ecec\u001b[39m\u001b[39m'\u001b[39m, command \u001b[39m=\u001b[39m fun5, width \u001b[39m=\u001b[39m \u001b[39m20\u001b[39m, height \u001b[39m=\u001b[39m \u001b[39m2\u001b[39m)\u001b[39m.\u001b[39mplace(x \u001b[39m=\u001b[39m \u001b[39m125\u001b[39m, y \u001b[39m=\u001b[39m \u001b[39m125\u001b[39m, relx \u001b[39m=\u001b[39m \u001b[39m0.5\u001b[39m, rely \u001b[39m=\u001b[39m \u001b[39m0.5\u001b[39m, anchor \u001b[39m=\u001b[39m CENTER)\n\u001b[1;32m---> <a href='vscode-notebook-cell:/c%3A/Users/Sidhant/Documents/GitHub/HAND-OF-GOD/Technovation-%2721/Hand_2.0.ipynb#ch0000024?line=27'>28</a>\u001b[0m credits1 \u001b[39m=\u001b[39m Label(window, text \u001b[39m=\u001b[39;49m \u001b[39m\"\u001b[39;49m\u001b[39mHand of God\u001b[39;49m\u001b[39m\"\u001b[39;49m, fg \u001b[39m=\u001b[39;49m \u001b[39m'\u001b[39;49m\u001b[39mwhite\u001b[39;49m\u001b[39m'\u001b[39;49m, bg \u001b[39m=\u001b[39;49m \u001b[39m'\u001b[39;49m\u001b[39mblack\u001b[39;49m\u001b[39m'\u001b[39;49m, font \u001b[39m=\u001b[39;49m (\u001b[39m\"\u001b[39;49m\u001b[39mGabriola 10.5\u001b[39;49m\u001b[39m\"\u001b[39;49m))\u001b[39m.\u001b[39mplace(x \u001b[39m=\u001b[39m \u001b[39m125\u001b[39m, y \u001b[39m=\u001b[39m \u001b[39m188\u001b[39m, relx \u001b[39m=\u001b[39m \u001b[39m0.5\u001b[39m, rely \u001b[39m=\u001b[39m \u001b[39m0.5\u001b[39m, anchor \u001b[39m=\u001b[39m CENTER)\n\u001b[0;32m     <a href='vscode-notebook-cell:/c%3A/Users/Sidhant/Documents/GitHub/HAND-OF-GOD/Technovation-%2721/Hand_2.0.ipynb#ch0000024?line=28'>29</a>\u001b[0m credits2 \u001b[39m=\u001b[39m Label(window, text \u001b[39m=\u001b[39m \u001b[39m\"\u001b[39m\u001b[39mZextrex Robotics 🤖\u001b[39m\u001b[39m\"\u001b[39m, fg \u001b[39m=\u001b[39m \u001b[39m'\u001b[39m\u001b[39mwhite\u001b[39m\u001b[39m'\u001b[39m, bg \u001b[39m=\u001b[39m \u001b[39m'\u001b[39m\u001b[39mblack\u001b[39m\u001b[39m'\u001b[39m, font \u001b[39m=\u001b[39m (\u001b[39m\"\u001b[39m\u001b[39mImpact 6\u001b[39m\u001b[39m\"\u001b[39m))\u001b[39m.\u001b[39mplace(x \u001b[39m=\u001b[39m \u001b[39m125\u001b[39m, y \u001b[39m=\u001b[39m \u001b[39m220\u001b[39m, relx \u001b[39m=\u001b[39m \u001b[39m0.5\u001b[39m, rely \u001b[39m=\u001b[39m \u001b[39m0.5\u001b[39m, anchor \u001b[39m=\u001b[39m CENTER)\n\u001b[0;32m     <a href='vscode-notebook-cell:/c%3A/Users/Sidhant/Documents/GitHub/HAND-OF-GOD/Technovation-%2721/Hand_2.0.ipynb#ch0000024?line=29'>30</a>\u001b[0m window\u001b[39m.\u001b[39mmainloop()\n",
      "File \u001b[1;32m~\\AppData\\Local\\Programs\\Python\\Python310\\lib\\tkinter\\__init__.py:3177\u001b[0m, in \u001b[0;36mLabel.__init__\u001b[1;34m(self, master, cnf, **kw)\u001b[0m\n\u001b[0;32m   <a href='file:///c%3A/Users/Sidhant/AppData/Local/Programs/Python/Python310/lib/tkinter/__init__.py?line=3158'>3159</a>\u001b[0m \u001b[39mdef\u001b[39;00m \u001b[39m__init__\u001b[39m(\u001b[39mself\u001b[39m, master\u001b[39m=\u001b[39m\u001b[39mNone\u001b[39;00m, cnf\u001b[39m=\u001b[39m{}, \u001b[39m*\u001b[39m\u001b[39m*\u001b[39mkw):\n\u001b[0;32m   <a href='file:///c%3A/Users/Sidhant/AppData/Local/Programs/Python/Python310/lib/tkinter/__init__.py?line=3159'>3160</a>\u001b[0m     \u001b[39m\"\"\"Construct a label widget with the parent MASTER.\u001b[39;00m\n\u001b[0;32m   <a href='file:///c%3A/Users/Sidhant/AppData/Local/Programs/Python/Python310/lib/tkinter/__init__.py?line=3160'>3161</a>\u001b[0m \n\u001b[0;32m   <a href='file:///c%3A/Users/Sidhant/AppData/Local/Programs/Python/Python310/lib/tkinter/__init__.py?line=3161'>3162</a>\u001b[0m \u001b[39m    STANDARD OPTIONS\u001b[39;00m\n\u001b[1;32m   (...)\u001b[0m\n\u001b[0;32m   <a href='file:///c%3A/Users/Sidhant/AppData/Local/Programs/Python/Python310/lib/tkinter/__init__.py?line=3174'>3175</a>\u001b[0m \n\u001b[0;32m   <a href='file:///c%3A/Users/Sidhant/AppData/Local/Programs/Python/Python310/lib/tkinter/__init__.py?line=3175'>3176</a>\u001b[0m \u001b[39m    \"\"\"\u001b[39;00m\n\u001b[1;32m-> <a href='file:///c%3A/Users/Sidhant/AppData/Local/Programs/Python/Python310/lib/tkinter/__init__.py?line=3176'>3177</a>\u001b[0m     Widget\u001b[39m.\u001b[39;49m\u001b[39m__init__\u001b[39;49m(\u001b[39mself\u001b[39;49m, master, \u001b[39m'\u001b[39;49m\u001b[39mlabel\u001b[39;49m\u001b[39m'\u001b[39;49m, cnf, kw)\n",
      "File \u001b[1;32m~\\AppData\\Local\\Programs\\Python\\Python310\\lib\\tkinter\\__init__.py:2601\u001b[0m, in \u001b[0;36mBaseWidget.__init__\u001b[1;34m(self, master, widgetName, cnf, kw, extra)\u001b[0m\n\u001b[0;32m   <a href='file:///c%3A/Users/Sidhant/AppData/Local/Programs/Python/Python310/lib/tkinter/__init__.py?line=2598'>2599</a>\u001b[0m \u001b[39mfor\u001b[39;00m k, v \u001b[39min\u001b[39;00m classes:\n\u001b[0;32m   <a href='file:///c%3A/Users/Sidhant/AppData/Local/Programs/Python/Python310/lib/tkinter/__init__.py?line=2599'>2600</a>\u001b[0m     \u001b[39mdel\u001b[39;00m cnf[k]\n\u001b[1;32m-> <a href='file:///c%3A/Users/Sidhant/AppData/Local/Programs/Python/Python310/lib/tkinter/__init__.py?line=2600'>2601</a>\u001b[0m \u001b[39mself\u001b[39;49m\u001b[39m.\u001b[39;49mtk\u001b[39m.\u001b[39;49mcall(\n\u001b[0;32m   <a href='file:///c%3A/Users/Sidhant/AppData/Local/Programs/Python/Python310/lib/tkinter/__init__.py?line=2601'>2602</a>\u001b[0m     (widgetName, \u001b[39mself\u001b[39;49m\u001b[39m.\u001b[39;49m_w) \u001b[39m+\u001b[39;49m extra \u001b[39m+\u001b[39;49m \u001b[39mself\u001b[39;49m\u001b[39m.\u001b[39;49m_options(cnf))\n\u001b[0;32m   <a href='file:///c%3A/Users/Sidhant/AppData/Local/Programs/Python/Python310/lib/tkinter/__init__.py?line=2602'>2603</a>\u001b[0m \u001b[39mfor\u001b[39;00m k, v \u001b[39min\u001b[39;00m classes:\n\u001b[0;32m   <a href='file:///c%3A/Users/Sidhant/AppData/Local/Programs/Python/Python310/lib/tkinter/__init__.py?line=2603'>2604</a>\u001b[0m     k\u001b[39m.\u001b[39mconfigure(\u001b[39mself\u001b[39m, v)\n",
      "\u001b[1;31mTclError\u001b[0m: expected integer but got \"10.5\""
     ]
    }
   ],
   "source": [
    "window = Tk()\n",
    "window.title(\"Hand of God\")\n",
    "window.geometry('500x500')\n",
    "window.resizable(False, False)\n",
    "window.iconbitmap(os.getcwd() + \"\\\\Graphics\\\\title_icon.ico\")\n",
    "lbl = Animations.ImageLabel(window)\n",
    "lbl.pack()\n",
    "lbl.load(os.getcwd() + \"\\\\Graphics\\\\bg.gif\")\n",
    "button_frame = Frame(window).pack()\n",
    "\n",
    "picture = os.getcwd() + \"\\\\Graphics\\\\icon.png\"\n",
    "image = Image.open(picture).resize((200, 200), Image.ANTIALIAS)\n",
    "pic = ImageTk.PhotoImage(image)\n",
    "panel = Label(window, image = pic)\n",
    "panel.place(x = 0, y = -125, relx = 0.5, rely = 0.5, anchor = CENTER)\n",
    "\n",
    "picture2 = os.getcwd() + \"\\\\Graphics\\\\icon2.png\"\n",
    "image2 = Image.open(picture2).resize((215, 67), Image.ANTIALIAS)\n",
    "pic2 = ImageTk.PhotoImage(image2)\n",
    "panel2 = Label(window, image = pic2)\n",
    "panel2.place(x = 125, y = 200, relx = 0.5, rely = 0.5, anchor = CENTER)\n",
    "\n",
    "but1 = Button(button_frame, text = \"Record Hand Gesture\", font=(\"Lucida Sans\", 9), bg = '#0984e3', command = fun1, width = 20, height = 2).place(x = -125, y = 50, relx = 0.5, rely = 0.5, anchor = CENTER)\n",
    "but2 = Button(button_frame, text = \"Record Command\", font=(\"Lucida Sans\", 9), bg = '#ff7675', command = fun2, width = 20, height = 2).place(x = -125, y = 125, relx = 0.5, rely = 0.5, anchor = CENTER)\n",
    "but3 = Button(button_frame, text = \"Detect Command\", font=(\"Lucida Sans\", 9), bg = '#fdcb6e', command = fun3, width = 20, height = 2).place(x = -125, y = 200, relx = 0.5, rely = 0.5, anchor = CENTER)\n",
    "but4 = Button(button_frame, text = \"Developer Options\", font=(\"Lucida Sans\", 9), bg = '#b2bec3', command = lock, width = 20, height = 2).place(x = 125, y = 50, relx = 0.5, rely = 0.5, anchor = CENTER)\n",
    "but5 = Button(button_frame, text = \"Control\", font=(\"Lucida Sans\", 9), bg = '#81ecec', command = fun5, width = 20, height = 2).place(x = 125, y = 125, relx = 0.5, rely = 0.5, anchor = CENTER)\n",
    "credits1 = Label(window, text = \"Hand of God\", fg = 'white', bg = 'black', font = (\"Gabriola 10\")).place(x = 125, y = 188, relx = 0.5, rely = 0.5, anchor = CENTER)\n",
    "credits2 = Label(window, text = \"Zextrex Robotics 🤖\", fg = 'white', bg = 'black', font = (\"Impact 6\")).place(x = 125, y = 220, relx = 0.5, rely = 0.5, anchor = CENTER)\n",
    "window.mainloop()"
   ]
  },
  {
   "cell_type": "markdown",
   "metadata": {},
   "source": [
    "### Confusion-matrix of stored data and heat map visualization of hand gesture database"
   ]
  },
  {
   "cell_type": "code",
   "execution_count": null,
   "metadata": {},
   "outputs": [
    {
     "data": {
      "image/png": "[encoded data removed]",
      "text/plain": [
       "<Figure size 1440x432 with 2 Axes>"
      ]
     },
     "metadata": {
      "needs_background": "light"
     },
     "output_type": "display_data"
    }
   ],
   "source": [
    "cm = confusion_matrix(y_test, y_pred)\n",
    "\n",
    "fig, ax = plt.subplots(figsize=(20,6))\n",
    "sns.heatmap(cm, annot = True, fmt = 'd', xticklabels = actions, yticklabels = actions)\n",
    "plt.ylabel('Actual')\n",
    "plt.xlabel('Predicted')\n",
    "plt.show()"
   ]
  },
  {
   "cell_type": "markdown",
   "metadata": {},
   "source": [
    "### Confusion-matrix of test case"
   ]
  },
  {
   "cell_type": "code",
   "execution_count": null,
   "metadata": {},
   "outputs": [
    {
     "data": {
      "text/plain": [
       "['Yo', 'Open Hand', 'Open Hand']"
      ]
     },
     "execution_count": 83,
     "metadata": {},
     "output_type": "execute_result"
    }
   ],
   "source": [
    "x_find = [[366,293,298,372], [397,207,255,372], [397,207,255,340]]\n",
    "list(model.predict(x_find))"
   ]
  },
  {
   "cell_type": "markdown",
   "metadata": {},
   "source": [
    "### Classification report and Accuracies of model"
   ]
  },
  {
   "cell_type": "code",
   "execution_count": null,
   "metadata": {},
   "outputs": [
    {
     "name": "stdout",
     "output_type": "stream",
     "text": [
      "Accuracy: 0.9666666666666667\n",
      "Classification Report: \n",
      "              precision    recall  f1-score   support\n",
      "\n",
      "     Anti-Yo       1.00      1.00      1.00        10\n",
      " Closed Hand       1.00      1.00      1.00         9\n",
      "   Open Hand       1.00      0.83      0.91        12\n",
      "     Pointer       1.00      1.00      1.00         6\n",
      "     Victory       1.00      1.00      1.00        14\n",
      "          Yo       0.82      1.00      0.90         9\n",
      "\n",
      "    accuracy                           0.97        60\n",
      "   macro avg       0.97      0.97      0.97        60\n",
      "weighted avg       0.97      0.97      0.97        60\n",
      "\n"
     ]
    }
   ],
   "source": [
    "print(\"Accuracy:\", metrics.accuracy_score(y_test, y_pred))\n",
    "print(\"Classification Report: \")\n",
    "print(classification_report(y_test, y_pred))"
   ]
  },
  {
   "cell_type": "markdown",
   "metadata": {},
   "source": [
    "# Updates\n",
    "\n",
    "## Controls\n",
    "- Air mouse - Window Destroy\n",
    "- Turtle - Confirm turtle movement\n",
    "- Change UI (Button arrangememnt)\n",
    "\n",
    "## Record Command\n",
    "- Store Gesture\n",
    "- On left side, Output should be Hand gestures\n",
    "- On right side, Remove Avergae Voltages\n",
    "- Use ML\n",
    "- Change UI (Make window height less)\n",
    "\n",
    "## Detect Command\n",
    "\n",
    "- Use ML\n",
    "- Change UI (Make window height less)\n",
    "- Create proper UI interface"
   ]
  }
 ],
 "metadata": {
  "interpreter": {
   "hash": "fe44fef87f92f48a3a32707d0df204585f471652bc0ce87358a3ce712bc24db0"
  },
  "kernelspec": {
   "display_name": "Python 3.9.7 64-bit",
   "name": "python3"
  },
  "language_info": {
   "codemirror_mode": {
    "name": "ipython",
    "version": 3
   },
   "file_extension": ".py",
   "mimetype": "text/x-python",
   "name": "python",
   "nbconvert_exporter": "python",
   "pygments_lexer": "ipython3",
   "version": "3.10.2"
  },
  "orig_nbformat": 4
 },
 "nbformat": 4,
 "nbformat_minor": 2
}
