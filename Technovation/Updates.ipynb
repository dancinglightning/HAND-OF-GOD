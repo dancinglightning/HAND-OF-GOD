{
 "cells": [
  {
   "cell_type": "markdown",
   "metadata": {},
   "source": [
    "# Updates for Version Hand of God 2.0"
   ]
  },
  {
   "cell_type": "markdown",
   "metadata": {},
   "source": [
    "## Release notes 2.1 (19/10/21)"
   ]
  },
  {
   "cell_type": "markdown",
   "metadata": {},
   "source": [
    " - Updated to Logistic regression model of Sklearn instead of previously used SVM library\n",
    " - Created a feature of executing the code in any device without root directory path change\n",
    " - Utilized Jupyter notebook and variable renaming for better UI experience for the coders :p\n",
    " - Attained 100% accuracy on currently stored 6 actions (Previously it was roughly 95%)\n",
    " - Working on Pytorch impelementation alongside Sklearn or replace it in longer run for better optimization\n",
    " - Developing a well-designed Tkinter interface for the user to use via Python"
   ]
  },
  {
   "cell_type": "markdown",
   "metadata": {},
   "source": [
    "## Release notes 2.2 (21/10/21)"
   ]
  },
  {
   "cell_type": "markdown",
   "metadata": {},
   "source": [
    " - Resolved confusion matrix issues to visualize data properly and perdict gesture percentages\n",
    " - Switched to Seaborg library for establishing confusion matrix\n",
    " - Compressed code further by notching up the function efficiency by giving outputs in form of tuples"
   ]
  },
  {
   "cell_type": "markdown",
   "metadata": {},
   "source": [
    "## Release notes 2.3 (3/11/21)"
   ]
  },
  {
   "cell_type": "markdown",
   "metadata": {},
   "source": [
    " - Created branches to distinguish between various codes of Hand of God of ITSP '21 and Technovation '21\n",
    " - Added few important variables (like thumb buffer push)\n",
    " - Created first level GUI using Tkinter module\n",
    " - Enabled secure password protection for Developer's options\n",
    " - Working on multiple tab interface on Tkinter\n",
    " - Implemented all module auto-installation feature so that code runs on any device with missing extensions\n",
    " - Added new logo for the UI (New iconic font)\n",
    " - New Title Icon added (on all tabs)\n",
    " - Created interface for first selction option"
   ]
  },
  {
   "cell_type": "markdown",
   "metadata": {},
   "source": [
    "## Release notes 2.4 (7/12/21)\n",
    "- Created UI for Air mouse\n",
    "- Added Turtle mouse to Air mouse\n",
    "- Switched to KNN Sklearn algorithm"
   ]
  }
 ],
 "metadata": {
  "language_info": {
   "name": "python"
  },
  "orig_nbformat": 4
 },
 "nbformat": 4,
 "nbformat_minor": 2
}
